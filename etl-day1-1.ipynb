{
 "cells": [
  {
   "cell_type": "code",
   "execution_count": 1,
   "id": "9aad0552-a119-4800-aa35-faeab4f2d2c9",
   "metadata": {},
   "outputs": [
    {
     "name": "stdout",
     "output_type": "stream",
     "text": [
      "Hello\n",
      "Hello\n",
      "Hello\n",
      "Hello\n",
      "Hello\n"
     ]
    }
   ],
   "source": [
    "for i in [1,2,3,\"Praveen\",5]:\n",
    "\tprint(\"Hello\")"
   ]
  },
  {
   "cell_type": "code",
   "execution_count": 2,
   "id": "fb88fac3-bbfd-4c12-aee3-973a9c7ef64e",
   "metadata": {},
   "outputs": [
    {
     "name": "stdout",
     "output_type": "stream",
     "text": [
      "1\n",
      "2\n",
      "3\n",
      "Praveen\n",
      "5\n"
     ]
    }
   ],
   "source": [
    "for i in [1,2,3,\"Praveen\",5]:\n",
    "\tprint(i)"
   ]
  },
  {
   "cell_type": "code",
   "execution_count": 4,
   "id": "218b54e6-9250-4436-8440-7713d4548172",
   "metadata": {},
   "outputs": [
    {
     "name": "stdout",
     "output_type": "stream",
     "text": [
      "1\n",
      "2\n",
      "3\n",
      "4\n",
      "5\n"
     ]
    }
   ],
   "source": [
    "set1 = {1,2,3,4,5,2,1,4}\n",
    "for j in set1:\n",
    "    print(j)"
   ]
  },
  {
   "cell_type": "code",
   "execution_count": 5,
   "id": "fc436e61-44b5-4c86-a312-62fcb9073e29",
   "metadata": {},
   "outputs": [
    {
     "name": "stdout",
     "output_type": "stream",
     "text": [
      "1\n",
      "2\n",
      "3\n",
      "4\n",
      "5\n",
      "2\n",
      "1\n",
      "4\n"
     ]
    }
   ],
   "source": [
    "set1 = [3,5,7,9,11,12]\n",
    "for j in set1:\n",
    "    print(j)"
   ]
  },
  {
   "cell_type": "code",
   "execution_count": 8,
   "id": "ad18e274-5c33-4a4a-ad64-058b8518898a",
   "metadata": {},
   "outputs": [
    {
     "name": "stdout",
     "output_type": "stream",
     "text": [
      "Test\n",
      "P\n",
      "Test\n",
      "y\n",
      "Test\n",
      "t\n",
      "Test\n",
      "h\n",
      "Test\n",
      "o\n",
      "Test\n",
      "n\n",
      "Test\n",
      " \n",
      "Test\n",
      "P\n",
      "Test\n",
      "r\n",
      "Test\n",
      "o\n",
      "Test\n",
      "g\n",
      "Test\n",
      "r\n",
      "Test\n",
      "a\n",
      "Test\n",
      "m\n",
      "Test\n",
      "m\n",
      "Test\n",
      "i\n",
      "Test\n",
      "n\n",
      "Test\n",
      "g\n"
     ]
    }
   ],
   "source": [
    "for ch in \"Python Programming\":\n",
    "    print(\"Test\")\n",
    "    print(ch)"
   ]
  },
  {
   "cell_type": "code",
   "execution_count": 11,
   "id": "5af14fda-1864-4191-aeb1-73a505c743cb",
   "metadata": {},
   "outputs": [
    {
     "name": "stdout",
     "output_type": "stream",
     "text": [
      "0\n",
      "1\n",
      "2\n",
      "3\n",
      "4\n"
     ]
    }
   ],
   "source": [
    "for k in range(5):  #[0,1,2,3,4]\n",
    "    print(k)"
   ]
  },
  {
   "cell_type": "code",
   "execution_count": 12,
   "id": "36aa6821-f2e5-4d4c-b471-ca17152fc134",
   "metadata": {},
   "outputs": [
    {
     "name": "stdout",
     "output_type": "stream",
     "text": [
      "10\n",
      "11\n",
      "12\n",
      "13\n",
      "14\n",
      "15\n",
      "16\n",
      "17\n",
      "18\n",
      "19\n"
     ]
    }
   ],
   "source": [
    "for k in range(10,20): #[10,11,12,13...19]\n",
    "    print(k)"
   ]
  },
  {
   "cell_type": "code",
   "execution_count": 13,
   "id": "86e5586a-b8b4-4ffa-ac62-a6c8d2e6c656",
   "metadata": {},
   "outputs": [
    {
     "name": "stdout",
     "output_type": "stream",
     "text": [
      "10\n",
      "12\n",
      "14\n",
      "16\n",
      "18\n"
     ]
    }
   ],
   "source": [
    "for k in range(10,20,2): #[10,12,14,16,18]\n",
    "    print(k)"
   ]
  },
  {
   "cell_type": "code",
   "execution_count": 15,
   "id": "1afbfbb9-5e81-4f4c-ae3e-793e1e945eb6",
   "metadata": {},
   "outputs": [
    {
     "name": "stdout",
     "output_type": "stream",
     "text": [
      "10\n",
      "9\n",
      "8\n",
      "7\n",
      "6\n",
      "5\n",
      "4\n",
      "3\n",
      "2\n"
     ]
    }
   ],
   "source": [
    "for k in range(10,1,-1):\n",
    "    print(k)"
   ]
  },
  {
   "cell_type": "code",
   "execution_count": 22,
   "id": "4b792751-8d8e-436d-8adc-5368bc11ae83",
   "metadata": {},
   "outputs": [
    {
     "name": "stdout",
     "output_type": "stream",
     "text": [
      "name --- John\n",
      "age --- 21\n",
      "course --- Python\n",
      "isMarried --- False\n"
     ]
    }
   ],
   "source": [
    "student = {\n",
    "    \"name\":\"John\",\n",
    "    \"age\": 21,\n",
    "    \"course\":\"Python\",\n",
    "    \"isMarried\":False\n",
    "}\n",
    "#student['name']-->John\n",
    "for key in student:\n",
    "    print(key, \"---\",student[key])"
   ]
  },
  {
   "cell_type": "code",
   "execution_count": 23,
   "id": "dfce2512-d49c-4089-9c0a-78d5ec7d3e4f",
   "metadata": {},
   "outputs": [
    {
     "name": "stdout",
     "output_type": "stream",
     "text": [
      "0 0\n",
      "0 1\n",
      "0 2\n",
      "1 0\n",
      "1 1\n",
      "1 2\n",
      "2 0\n",
      "2 1\n",
      "2 2\n"
     ]
    }
   ],
   "source": [
    "for i in range(3):#[0,1,2]\n",
    "    for j in range(3): #[0,1,2]\n",
    "        print(i,j)"
   ]
  },
  {
   "cell_type": "code",
   "execution_count": 25,
   "id": "ab317e1c-951a-4d25-9556-8e8ca6b557b1",
   "metadata": {},
   "outputs": [
    {
     "name": "stdout",
     "output_type": "stream",
     "text": [
      "Hello\n",
      "Hello\n",
      "Hello\n",
      "After for loop\n"
     ]
    }
   ],
   "source": [
    "for i in range(3):\n",
    "    print(\"Hello\")\n",
    "else:\n",
    "    print(\"After for loop\")"
   ]
  },
  {
   "cell_type": "code",
   "execution_count": 26,
   "id": "07d2639d-9265-458b-acd1-a0c9eb1ceb16",
   "metadata": {},
   "outputs": [],
   "source": [
    "def greeting():\n",
    "    print(\"Hello Welcome to Python Programing\")\n",
    "    print(\"Python is best lang to develop\")"
   ]
  },
  {
   "cell_type": "code",
   "execution_count": 27,
   "id": "9023e0fa-0f85-49d3-aa1a-62e12ed50104",
   "metadata": {},
   "outputs": [
    {
     "name": "stdout",
     "output_type": "stream",
     "text": [
      "Hello Welcome to Python Programing\n",
      "Python is best lang to develop\n"
     ]
    }
   ],
   "source": [
    "greeting()"
   ]
  },
  {
   "cell_type": "code",
   "execution_count": 42,
   "id": "ad06d1c3-71f4-4519-8004-82a5719e75a0",
   "metadata": {},
   "outputs": [],
   "source": [
    "def greeting(name=\" \"):\n",
    "    print(\"Hello , \", name, \" Welcome to Python Programing\")\n",
    "    print(\"Python is best lang to develop\")"
   ]
  },
  {
   "cell_type": "code",
   "execution_count": 43,
   "id": "369e9add-086f-45ff-bce8-18dd9a451ade",
   "metadata": {},
   "outputs": [
    {
     "name": "stdout",
     "output_type": "stream",
     "text": [
      "Hello ,  praveen  Welcome to Python Programing\n",
      "Python is best lang to develop\n"
     ]
    }
   ],
   "source": [
    "greeting(\"praveen\")"
   ]
  },
  {
   "cell_type": "code",
   "execution_count": 30,
   "id": "4b7f2fcb-5731-4cd3-a216-b07bc83dc12b",
   "metadata": {},
   "outputs": [
    {
     "name": "stdout",
     "output_type": "stream",
     "text": [
      "Hello ,  kumar  Welcome to Python Programing\n",
      "Python is best lang to develop\n"
     ]
    }
   ],
   "source": [
    "greeting(\"kumar\")"
   ]
  },
  {
   "cell_type": "code",
   "execution_count": 44,
   "id": "6bc31eea-237e-465c-9c36-b3a89a8e9054",
   "metadata": {},
   "outputs": [
    {
     "name": "stdout",
     "output_type": "stream",
     "text": [
      "Hello ,     Welcome to Python Programing\n",
      "Python is best lang to develop\n"
     ]
    }
   ],
   "source": [
    "greeting()"
   ]
  },
  {
   "cell_type": "code",
   "execution_count": 58,
   "id": "80a7465a-bfbc-4759-b775-ea1c1212a575",
   "metadata": {},
   "outputs": [],
   "source": [
    "def wishes(name,city, state=\"None\"):\n",
    "    print(\"Hello \", name , \" welcome to \", city, \"and you belongs to \",state)"
   ]
  },
  {
   "cell_type": "code",
   "execution_count": 46,
   "id": "1eca18a2-d683-4d29-87f6-c6ae706679e9",
   "metadata": {},
   "outputs": [
    {
     "name": "stdout",
     "output_type": "stream",
     "text": [
      "Hello  praveen  welcome to  Hyderabad\n"
     ]
    }
   ],
   "source": [
    "wishes(\"praveen\",\"Hyderabad\")"
   ]
  },
  {
   "cell_type": "code",
   "execution_count": 47,
   "id": "ed40c56b-ee10-4b7b-b087-7d9ddfb28dfa",
   "metadata": {},
   "outputs": [
    {
     "name": "stdout",
     "output_type": "stream",
     "text": [
      "Hello  Hyderabad  welcome to  Praveen\n"
     ]
    }
   ],
   "source": [
    "wishes(\"Hyderabad\",\"Praveen\")"
   ]
  },
  {
   "cell_type": "code",
   "execution_count": 50,
   "id": "12bef968-f466-4b32-ac3f-7323fe0e77fe",
   "metadata": {},
   "outputs": [
    {
     "name": "stdout",
     "output_type": "stream",
     "text": [
      "Hello  Praveen  welcome to  Hyderabad and you belongs to  None\n"
     ]
    }
   ],
   "source": [
    "wishes(city=\"Hyderabad\", name=\"Praveen\")"
   ]
  },
  {
   "cell_type": "code",
   "execution_count": 52,
   "id": "f0c72488-2fd0-4f8a-ad51-b3da2de6ac33",
   "metadata": {},
   "outputs": [
    {
     "name": "stdout",
     "output_type": "stream",
     "text": [
      "Hello  ['hyderabad', 'praveen']  welcome to  Chennai and you belongs to  None\n"
     ]
    }
   ],
   "source": [
    "wishes(city=\"Chennai\",name=[\"hyderabad\",'praveen'])"
   ]
  },
  {
   "cell_type": "code",
   "execution_count": 57,
   "id": "721dc82e-0c51-47c1-8216-dfaa85b7ab59",
   "metadata": {},
   "outputs": [
    {
     "ename": "NameError",
     "evalue": "name 'state' is not defined",
     "output_type": "error",
     "traceback": [
      "\u001b[1;31m---------------------------------------------------------------------------\u001b[0m",
      "\u001b[1;31mNameError\u001b[0m                                 Traceback (most recent call last)",
      "Cell \u001b[1;32mIn[57], line 1\u001b[0m\n\u001b[1;32m----> 1\u001b[0m \u001b[43mwishes\u001b[49m\u001b[43m(\u001b[49m\u001b[38;5;124;43m\"\u001b[39;49m\u001b[38;5;124;43mPraveen\u001b[39;49m\u001b[38;5;124;43m\"\u001b[39;49m\u001b[43m,\u001b[49m\u001b[38;5;124;43m\"\u001b[39;49m\u001b[38;5;124;43mHyderabad\u001b[39;49m\u001b[38;5;124;43m\"\u001b[39;49m\u001b[43m)\u001b[49m\n",
      "Cell \u001b[1;32mIn[56], line 2\u001b[0m, in \u001b[0;36mwishes\u001b[1;34m(name, city)\u001b[0m\n\u001b[0;32m      1\u001b[0m \u001b[38;5;28;01mdef\u001b[39;00m\u001b[38;5;250m \u001b[39m\u001b[38;5;21mwishes\u001b[39m(name,city):\n\u001b[1;32m----> 2\u001b[0m     \u001b[38;5;28mprint\u001b[39m(\u001b[38;5;124m\"\u001b[39m\u001b[38;5;124mHello \u001b[39m\u001b[38;5;124m\"\u001b[39m, name , \u001b[38;5;124m\"\u001b[39m\u001b[38;5;124m welcome to \u001b[39m\u001b[38;5;124m\"\u001b[39m, city, \u001b[38;5;124m\"\u001b[39m\u001b[38;5;124mand you belongs to \u001b[39m\u001b[38;5;124m\"\u001b[39m,\u001b[43mstate\u001b[49m)\n",
      "\u001b[1;31mNameError\u001b[0m: name 'state' is not defined"
     ]
    }
   ],
   "source": [
    "wishes(\"Praveen\",\"Hyderabad\")"
   ]
  },
  {
   "cell_type": "code",
   "execution_count": 67,
   "id": "a976707e-1137-412b-8ca6-d16abae83c98",
   "metadata": {},
   "outputs": [],
   "source": [
    "def show_numbers(*nos):\n",
    "    for i in nos:\n",
    "        print(i)"
   ]
  },
  {
   "cell_type": "code",
   "execution_count": 68,
   "id": "cf8afdf0-3eab-4bd5-8eee-0f42da2df5ed",
   "metadata": {},
   "outputs": [
    {
     "name": "stdout",
     "output_type": "stream",
     "text": [
      "10\n"
     ]
    }
   ],
   "source": [
    "show_numbers(10) # [10]"
   ]
  },
  {
   "cell_type": "code",
   "execution_count": 62,
   "id": "fb154199-8d92-45f7-aa7e-ee9fa627bbd3",
   "metadata": {},
   "outputs": [
    {
     "name": "stdout",
     "output_type": "stream",
     "text": [
      "10\n",
      "20\n"
     ]
    }
   ],
   "source": [
    "show_numbers(10,20) #[10,20]"
   ]
  },
  {
   "cell_type": "code",
   "execution_count": 63,
   "id": "1358ecf4-c3d2-4101-8e9f-19ab66948eb9",
   "metadata": {},
   "outputs": [
    {
     "name": "stdout",
     "output_type": "stream",
     "text": [
      "10\n",
      "20\n",
      "30\n"
     ]
    }
   ],
   "source": [
    "show_numbers(10,20,30)"
   ]
  },
  {
   "cell_type": "code",
   "execution_count": 64,
   "id": "e0176405-4087-4317-aeb2-c209ee188ea1",
   "metadata": {},
   "outputs": [
    {
     "name": "stdout",
     "output_type": "stream",
     "text": [
      "10\n",
      "20\n",
      "30\n",
      "40\n",
      "50\n"
     ]
    }
   ],
   "source": [
    "show_numbers(10,20,30,40,50)"
   ]
  },
  {
   "cell_type": "code",
   "execution_count": 69,
   "id": "5da20db9-7bf4-4487-9f60-e59f1c4a4d2a",
   "metadata": {},
   "outputs": [],
   "source": [
    "def show_numbers_list(*nos):\n",
    "    print(nos)"
   ]
  },
  {
   "cell_type": "code",
   "execution_count": 73,
   "id": "7d4c8c5d-46fb-4931-a48f-7b6c74aff024",
   "metadata": {},
   "outputs": [
    {
     "name": "stdout",
     "output_type": "stream",
     "text": [
      "(10, 20, 30)\n"
     ]
    }
   ],
   "source": [
    "show_numbers_list(10,20,30)"
   ]
  },
  {
   "cell_type": "code",
   "execution_count": 91,
   "id": "91b9c128-95e8-406a-97fd-29f0d4678c49",
   "metadata": {},
   "outputs": [],
   "source": [
    "def greet(message1,message2, *names, city=\"Hyderabad\"):\n",
    "    for name in names:\n",
    "        print(f\"{message1} and {message2} to {name} and welcome to {city}\")"
   ]
  },
  {
   "cell_type": "code",
   "execution_count": 92,
   "id": "97539d95-9b21-4ffe-ac68-0fd50c709c4b",
   "metadata": {},
   "outputs": [
    {
     "name": "stdout",
     "output_type": "stream",
     "text": [
      "Hello and ravi to suresh and welcome to Hyderabad\n",
      "Hello and ravi to priya and welcome to Hyderabad\n"
     ]
    }
   ],
   "source": [
    "greet(\"Hello\",\"ravi\",\"suresh\",\"priya\")"
   ]
  },
  {
   "cell_type": "code",
   "execution_count": 93,
   "id": "759a2257-0ff8-43fe-b040-9e43ad46ccc9",
   "metadata": {},
   "outputs": [],
   "source": [
    "student = {\n",
    "    \"name\":\"John\",\n",
    "    \"age\": 21,\n",
    "    \"course\":\"Python\",\n",
    "    \"isMarried\":False\n",
    "}"
   ]
  },
  {
   "cell_type": "code",
   "execution_count": 96,
   "id": "0e3e131c-38d1-4a3d-bc45-50dce288de21",
   "metadata": {},
   "outputs": [],
   "source": [
    "def show_student_details(**kwargs):\n",
    "    print(\"Student Details\")\n",
    "    for key,value in kwargs.items():\n",
    "        print(f\"{key} ---> {value}\")"
   ]
  },
  {
   "cell_type": "code",
   "execution_count": 101,
   "id": "2efb6791-798a-4750-85bd-7076dfd79b68",
   "metadata": {},
   "outputs": [
    {
     "name": "stdout",
     "output_type": "stream",
     "text": [
      "Student Details\n",
      "name ---> praveen\n",
      "age ---> 48\n",
      "course ---> python\n",
      "duration ---> 20\n",
      "fee ---> 24000\n"
     ]
    }
   ],
   "source": [
    "show_student_details(name=\"praveen\",age=48,course=\"python\",duration=20,fee=24000)"
   ]
  },
  {
   "cell_type": "code",
   "execution_count": 102,
   "id": "845e1afd-586c-4bbc-8fb1-ee28c0abc9f8",
   "metadata": {},
   "outputs": [],
   "source": [
    "def factorial(n):\n",
    "    fact=1\n",
    "    if n == 1 or n == 0 :\n",
    "        return 1\n",
    "    else:\n",
    "        for i in range(2,n+1):\n",
    "            fact = fact * i\n",
    "        return fact\n",
    "    "
   ]
  },
  {
   "cell_type": "code",
   "execution_count": 103,
   "id": "ef9272e0-097a-4c9d-bd3c-fff8b8b79bfe",
   "metadata": {},
   "outputs": [
    {
     "data": {
      "text/plain": [
       "120"
      ]
     },
     "execution_count": 103,
     "metadata": {},
     "output_type": "execute_result"
    }
   ],
   "source": [
    "factorial(5)"
   ]
  },
  {
   "cell_type": "code",
   "execution_count": 104,
   "id": "af0cb2cf-053b-4fa0-b2a5-06b0e74ef4d0",
   "metadata": {},
   "outputs": [
    {
     "data": {
      "text/plain": [
       "1"
      ]
     },
     "execution_count": 104,
     "metadata": {},
     "output_type": "execute_result"
    }
   ],
   "source": [
    "factorial(1)"
   ]
  },
  {
   "cell_type": "code",
   "execution_count": 105,
   "id": "9edd5489-b502-4d71-b683-559d89053acb",
   "metadata": {},
   "outputs": [
    {
     "data": {
      "text/plain": [
       "1"
      ]
     },
     "execution_count": 105,
     "metadata": {},
     "output_type": "execute_result"
    }
   ],
   "source": [
    "factorial(0)"
   ]
  },
  {
   "cell_type": "code",
   "execution_count": 107,
   "id": "0ba02cc0-d887-40f1-9188-6031674e3aca",
   "metadata": {},
   "outputs": [],
   "source": [
    "def isOdd(n):\n",
    "    if n%2 == 0:\n",
    "        return False\n",
    "    else:\n",
    "        return True"
   ]
  },
  {
   "cell_type": "code",
   "execution_count": 108,
   "id": "a01c69e4-42b9-40fa-a858-ec6009e390ba",
   "metadata": {},
   "outputs": [
    {
     "name": "stdout",
     "output_type": "stream",
     "text": [
      "False\n"
     ]
    }
   ],
   "source": [
    "print(isOdd(4))"
   ]
  },
  {
   "cell_type": "code",
   "execution_count": 109,
   "id": "41da0820-bf26-42be-9cdd-e4886f2c15d9",
   "metadata": {},
   "outputs": [
    {
     "name": "stdout",
     "output_type": "stream",
     "text": [
      "True\n"
     ]
    }
   ],
   "source": [
    "print(isOdd(5))"
   ]
  },
  {
   "cell_type": "code",
   "execution_count": 110,
   "id": "5265cc7f-50aa-490d-9244-28ec27d37794",
   "metadata": {},
   "outputs": [],
   "source": [
    "def isPrime(n):\n",
    "    prime=True\n",
    "    for i in range(2,n):\n",
    "        if n%i == 0:\n",
    "            prime = False\n",
    "            break\n",
    "    return prime"
   ]
  },
  {
   "cell_type": "code",
   "execution_count": 111,
   "id": "8fa10dfa-db79-4ebd-8782-69516dd6a4ae",
   "metadata": {},
   "outputs": [
    {
     "data": {
      "text/plain": [
       "False"
      ]
     },
     "execution_count": 111,
     "metadata": {},
     "output_type": "execute_result"
    }
   ],
   "source": [
    "isPrime(4)"
   ]
  },
  {
   "cell_type": "code",
   "execution_count": 112,
   "id": "7eb9dc7b-5f75-4729-96a5-d2f6acf92dd8",
   "metadata": {},
   "outputs": [
    {
     "data": {
      "text/plain": [
       "True"
      ]
     },
     "execution_count": 112,
     "metadata": {},
     "output_type": "execute_result"
    }
   ],
   "source": [
    "isPrime(5)"
   ]
  },
  {
   "cell_type": "code",
   "execution_count": 113,
   "id": "1fe75a88-a0c6-4a8b-905b-52efab527be6",
   "metadata": {},
   "outputs": [
    {
     "data": {
      "text/plain": [
       "True"
      ]
     },
     "execution_count": 113,
     "metadata": {},
     "output_type": "execute_result"
    }
   ],
   "source": [
    "isPrime(11)"
   ]
  },
  {
   "cell_type": "code",
   "execution_count": 114,
   "id": "05468446-8eab-4a81-9fe1-c30cf0bbb295",
   "metadata": {},
   "outputs": [
    {
     "data": {
      "text/plain": [
       "False"
      ]
     },
     "execution_count": 114,
     "metadata": {},
     "output_type": "execute_result"
    }
   ],
   "source": [
    "isPrime(14)"
   ]
  },
  {
   "cell_type": "code",
   "execution_count": 3,
   "id": "b38d1499-06d0-4db4-9193-9089888e74d6",
   "metadata": {},
   "outputs": [
    {
     "ename": "ZeroDivisionError",
     "evalue": "division by zero",
     "output_type": "error",
     "traceback": [
      "\u001b[1;31m---------------------------------------------------------------------------\u001b[0m",
      "\u001b[1;31mZeroDivisionError\u001b[0m                         Traceback (most recent call last)",
      "Cell \u001b[1;32mIn[3], line 3\u001b[0m\n\u001b[0;32m      1\u001b[0m a \u001b[38;5;241m=\u001b[39m \u001b[38;5;241m3\u001b[39m\n\u001b[0;32m      2\u001b[0m b \u001b[38;5;241m=\u001b[39m \u001b[38;5;241m0\u001b[39m\n\u001b[1;32m----> 3\u001b[0m c \u001b[38;5;241m=\u001b[39m \u001b[43ma\u001b[49m\u001b[38;5;241;43m/\u001b[39;49m\u001b[43mb\u001b[49m\n\u001b[0;32m      4\u001b[0m \u001b[38;5;28mprint\u001b[39m(c)\n\u001b[0;32m      5\u001b[0m \u001b[38;5;28mprint\u001b[39m(\u001b[38;5;124m\"\u001b[39m\u001b[38;5;124mAfter the c value is printed\u001b[39m\u001b[38;5;124m\"\u001b[39m)\n",
      "\u001b[1;31mZeroDivisionError\u001b[0m: division by zero"
     ]
    }
   ],
   "source": [
    "a = 3\n",
    "b = 0\n",
    "c = a/b\n",
    "print(c)\n",
    "print(\"After the c value is printed\")"
   ]
  },
  {
   "cell_type": "code",
   "execution_count": 5,
   "id": "24ef91da-119f-449d-a77d-5fc831211e63",
   "metadata": {},
   "outputs": [
    {
     "name": "stdout",
     "output_type": "stream",
     "text": [
      "1.5\n",
      "After the c value is printed\n",
      "Inside the finally block\n"
     ]
    }
   ],
   "source": [
    "try:\n",
    "    a = 3\n",
    "    b = 2\n",
    "    c = a/b\n",
    "    print(c)\n",
    "    print(\"After the c value is printed\")\n",
    "except ZeroDivisionError:\n",
    "    print(\"You have entered 0 for denominator please enter again \")\n",
    "    a = int(input(\"Enter a new a value\"))\n",
    "    b = int(input(\"Enter a new b value not zero\"))\n",
    "    c = a/b\n",
    "    print(\"The division is \", c)\n",
    "finally:\n",
    "    print(\"Inside the finally block\")"
   ]
  },
  {
   "cell_type": "code",
   "execution_count": 13,
   "id": "5aa6a203-b19e-4d2c-8266-b9164ff22e06",
   "metadata": {},
   "outputs": [
    {
     "name": "stdout",
     "output_type": "stream",
     "text": [
      "2\n",
      "Something happend please re check your code\n",
      "Inside the finally block\n"
     ]
    }
   ],
   "source": [
    "try:\n",
    "    a = 3\n",
    "    b = int(\"0\")\n",
    "    data = [1,2,3,4]\n",
    "    print(data[5])\n",
    "    c = a/b\n",
    "    print(c)\n",
    "    print(\"After the c value is printed\")\n",
    "except ZeroDivisionError:\n",
    "    print(\"You have entered 0 for denominator please enter again \")\n",
    "    a = int(input(\"Enter a new a value\"))\n",
    "    b = int(input(\"Enter a new b value not zero\"))\n",
    "    c = a/b\n",
    "    print(\"The division is \", c)\n",
    "except ValueError:\n",
    "    print(\"Bad conversion\")\n",
    "    print(\"Please enter a proper value\")\n",
    "except Exception:\n",
    "    print(\"Something happend please re check your code\")\n",
    "finally:\n",
    "    print(\"Inside the finally block\")"
   ]
  },
  {
   "cell_type": "code",
   "execution_count": null,
   "id": "f43e31b1-593e-403d-a600-5f25a460657f",
   "metadata": {},
   "outputs": [],
   "source": []
  }
 ],
 "metadata": {
  "kernelspec": {
   "display_name": "Python 3 (ipykernel)",
   "language": "python",
   "name": "python3"
  },
  "language_info": {
   "codemirror_mode": {
    "name": "ipython",
    "version": 3
   },
   "file_extension": ".py",
   "mimetype": "text/x-python",
   "name": "python",
   "nbconvert_exporter": "python",
   "pygments_lexer": "ipython3",
   "version": "3.12.7"
  }
 },
 "nbformat": 4,
 "nbformat_minor": 5
}
