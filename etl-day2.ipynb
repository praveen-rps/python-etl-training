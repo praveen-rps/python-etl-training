{
 "cells": [
  {
   "cell_type": "code",
   "execution_count": 9,
   "id": "4a0bc383-9434-4a18-9dc3-8fe8974a21d5",
   "metadata": {},
   "outputs": [],
   "source": [
    "class InvalidAgeError(Exception):\n",
    "      pass"
   ]
  },
  {
   "cell_type": "code",
   "execution_count": 8,
   "id": "14758fb5-5f37-4e97-b17a-5eca68399da5",
   "metadata": {},
   "outputs": [
    {
     "name": "stdin",
     "output_type": "stream",
     "text": [
      "enter age of person 890\n"
     ]
    },
    {
     "name": "stdout",
     "output_type": "stream",
     "text": [
      "Age cannot be less than 0 or > 100\n"
     ]
    }
   ],
   "source": [
    "try:\n",
    "    age = int(input(\"enter age of person\"))\n",
    "    if age < 0 or age > 100:\n",
    "        raise InvalidAgeError(\"Age cannot be less than 0 or > 100\")\n",
    "    elif age >= 0 and age <= 17:\n",
    "        print(\"Insufficient age to vote\")\n",
    "    else:\n",
    "        print(\"you are eligible to vote\")\n",
    "except InvalidAgeError as e:\n",
    "    print(e)"
   ]
  },
  {
   "cell_type": "code",
   "execution_count": 10,
   "id": "2572c58f-7676-4bf4-b71d-912622c38499",
   "metadata": {},
   "outputs": [],
   "source": [
    "class InvalidAccountError(Exception):\n",
    "    pass"
   ]
  },
  {
   "cell_type": "code",
   "execution_count": 12,
   "id": "69335ebc-5802-4dcd-ac0c-e10bea8d4aa1",
   "metadata": {},
   "outputs": [],
   "source": [
    "class InsufficientFundsError(Exception):\n",
    "    pass"
   ]
  },
  {
   "cell_type": "code",
   "execution_count": 15,
   "id": "6dbd7f7b-12c7-4341-abe5-bd7ce19747ab",
   "metadata": {},
   "outputs": [
    {
     "name": "stdout",
     "output_type": "stream",
     "text": [
      "Not enough funds to transfer\n"
     ]
    }
   ],
   "source": [
    "def transfer_money(from_acc, to_acc, amount, balance):\n",
    "    if from_acc == to_acc:\n",
    "        raise InvalidAccountError(\"Cannot transfer to same account\")\n",
    "    if amount > balance:\n",
    "        raise InsufficientFundsError(\"Not enough funds to transfer\")\n",
    "    else:\n",
    "        print(\"Funds transfered successfully\")\n",
    "\n",
    "\n",
    "try:\n",
    "    transfer_money(\"123\",\"234\",1000, 500)\n",
    "except InvalidAccountError as e:\n",
    "    print(e)\n",
    "except InsufficientFundsError as f:\n",
    "    print(f)"
   ]
  },
  {
   "cell_type": "code",
   "execution_count": 16,
   "id": "e86a69d3-806b-4e10-a2dc-2220669840a9",
   "metadata": {},
   "outputs": [],
   "source": [
    "class InvalidDataError(Exception):\n",
    "    pass"
   ]
  },
  {
   "cell_type": "code",
   "execution_count": 35,
   "id": "e41ae484-1dc6-4b70-b097-c0b57dd03058",
   "metadata": {},
   "outputs": [],
   "source": [
    "def process_data():\n",
    "    try:\n",
    "        val = int(\"10\")\n",
    "        str = \"hello\"\n",
    "        print(str[10])\n",
    "    except ValueError as e:\n",
    "        raise InvalidDataError(\"Data Format is incorrect\")\n",
    "    except IndexError as e:\n",
    "        return e\n",
    "    return val"
   ]
  },
  {
   "cell_type": "code",
   "execution_count": 36,
   "id": "2a6ba46c-fec2-4b53-8636-ed1a6abadc97",
   "metadata": {},
   "outputs": [
    {
     "name": "stdout",
     "output_type": "stream",
     "text": [
      "The value from the method is \n"
     ]
    }
   ],
   "source": [
    "try:\n",
    "    process_data()\n",
    "    print(\"The value from the method is \")\n",
    "except InvalidDataError as e:\n",
    "    print(e)\n",
    "except Exeption as e:\n",
    "    print(\"Something happend\")"
   ]
  },
  {
   "cell_type": "code",
   "execution_count": 83,
   "id": "c124ca2a-02ae-45bd-8554-6695635aad67",
   "metadata": {},
   "outputs": [],
   "source": [
    "class Student:\n",
    "    def __init__(self,name,branch,year):\n",
    "        self.name=name\n",
    "        self.branch=branch\n",
    "        self.year=year\n",
    "        print(\"This will be automatically invoked\")\n",
    "    def reading(self):\n",
    "        print(self.name,\" can read\")\n",
    "    def sleeping(self):\n",
    "        print(self.name, \" can sleep\")\n",
    "    def writing(self):\n",
    "        print(self.name, \" can write\")\n",
    "    def walking(self):\n",
    "        print(\"Student can walk\")"
   ]
  },
  {
   "cell_type": "code",
   "execution_count": 84,
   "id": "37b6b41d-5235-4c05-8810-c35b68c6dbef",
   "metadata": {},
   "outputs": [
    {
     "name": "stdout",
     "output_type": "stream",
     "text": [
      "This will be automatically invoked\n",
      "This will be automatically invoked\n",
      "This will be automatically invoked\n"
     ]
    }
   ],
   "source": [
    "s1 = Student(\"Praveen\",\"CSE\",4)\n",
    "s2 = Student(\"Kumar\",\"EEE\",3)\n",
    "s3 = Student(\"Sunil\",\"ECE\",2)"
   ]
  },
  {
   "cell_type": "code",
   "execution_count": 85,
   "id": "a66985fb-5f89-45e7-8e9b-bdc760b97b9e",
   "metadata": {},
   "outputs": [
    {
     "name": "stdout",
     "output_type": "stream",
     "text": [
      "Praveen  can read\n",
      "Praveen  can write\n",
      "Praveen  can sleep\n",
      "Praveen   CSE   4\n"
     ]
    }
   ],
   "source": [
    "s1.reading()\n",
    "s1.writing()\n",
    "s1.sleeping()\n",
    "print(s1.name, \" \",s1.branch,\" \",s1.year)"
   ]
  },
  {
   "cell_type": "code",
   "execution_count": 78,
   "id": "acf7789e-24ec-4e0c-a3e3-5091aff9f2c2",
   "metadata": {},
   "outputs": [
    {
     "name": "stdout",
     "output_type": "stream",
     "text": [
      "Kumar  can read\n",
      "Kumar  can write\n",
      "Kumar  can sleep\n",
      "Kumar   EEE   3\n"
     ]
    }
   ],
   "source": [
    "s2.reading()\n",
    "s2.writing()\n",
    "s2.sleeping()\n",
    "print(s2.name, \" \",s2.branch,\" \",s2.year)"
   ]
  },
  {
   "cell_type": "code",
   "execution_count": 79,
   "id": "260cc618-2fcc-40f4-8a66-8a8b1e00c081",
   "metadata": {},
   "outputs": [
    {
     "name": "stdout",
     "output_type": "stream",
     "text": [
      "Sunil  can read\n",
      "Sunil  can write\n",
      "Sunil  can sleep\n",
      "Sunil   ECE   2\n"
     ]
    }
   ],
   "source": [
    "s3.reading()\n",
    "s3.writing()\n",
    "s3.sleeping()\n",
    "print(s3.name, \" \",s3.branch,\" \",s3.year)"
   ]
  },
  {
   "cell_type": "code",
   "execution_count": 86,
   "id": "9bb20020-ed30-40cb-94d2-9f8b15bf7394",
   "metadata": {},
   "outputs": [],
   "source": [
    "class Box2D:\n",
    "    def __init__(self):\n",
    "        self.length=2\n",
    "        self.breadth=3\n",
    "    def surfaceArea(self):\n",
    "        print(\"The surface Area is \", self.length * self.breadth)"
   ]
  },
  {
   "cell_type": "code",
   "execution_count": 87,
   "id": "463c82be-66b5-45bc-94ee-9c7734bbfabd",
   "metadata": {},
   "outputs": [
    {
     "name": "stdout",
     "output_type": "stream",
     "text": [
      "The surface Area is  6\n"
     ]
    }
   ],
   "source": [
    "b1 = Box2D()\n",
    "b1.surfaceArea()"
   ]
  },
  {
   "cell_type": "code",
   "execution_count": 88,
   "id": "a9bbe09d-2d80-4f6e-98ef-3683ee89a929",
   "metadata": {},
   "outputs": [],
   "source": [
    "class Box3D:\n",
    "    def __init__(self):\n",
    "        self.length=2\n",
    "        self.breadth=3\n",
    "        self.height=3\n",
    "    def surfaceArea(self):\n",
    "        print(\"The surface Area is \", self.length * self.breadth)\n",
    "    def volume(self):\n",
    "        print(\"The Volume is \", self.length * self.breadth * self.height)"
   ]
  },
  {
   "cell_type": "code",
   "execution_count": 89,
   "id": "f05404a5-bd31-4d47-8c47-1e7869adba66",
   "metadata": {},
   "outputs": [],
   "source": [
    "b2 = Box3D()"
   ]
  },
  {
   "cell_type": "code",
   "execution_count": 90,
   "id": "9f561170-2419-4eb8-b2aa-8fb99d6d0dc8",
   "metadata": {},
   "outputs": [
    {
     "name": "stdout",
     "output_type": "stream",
     "text": [
      "The surface Area is  6\n",
      "The Volume is  18\n"
     ]
    }
   ],
   "source": [
    "b2.surfaceArea()\n",
    "b2.volume()"
   ]
  },
  {
   "cell_type": "code",
   "execution_count": 112,
   "id": "327023bc-dfd0-44a6-86d2-29997c3d792f",
   "metadata": {},
   "outputs": [],
   "source": [
    "class BoxThreeD(Box2D):\n",
    "    def __init__(self):\n",
    "        super().__init__()\n",
    "        self.height=4\n",
    "    def volume(self):\n",
    "        print(\"The Volume is \", self.length * self.breadth * self.height)        "
   ]
  },
  {
   "cell_type": "code",
   "execution_count": 113,
   "id": "d745ddef-224b-46ec-a56c-4502fae8e662",
   "metadata": {},
   "outputs": [],
   "source": [
    "b2 = BoxThreeD()"
   ]
  },
  {
   "cell_type": "code",
   "execution_count": 114,
   "id": "8a535cda-d5ac-42c9-9544-a567e6213d46",
   "metadata": {},
   "outputs": [
    {
     "name": "stdout",
     "output_type": "stream",
     "text": [
      "The surface Area is  6\n"
     ]
    }
   ],
   "source": [
    "b2.surfaceArea()"
   ]
  },
  {
   "cell_type": "code",
   "execution_count": 111,
   "id": "8303bc7f-8408-4326-b9e6-79cf9191ac5d",
   "metadata": {},
   "outputs": [
    {
     "name": "stdout",
     "output_type": "stream",
     "text": [
      "The Volume is  24\n"
     ]
    }
   ],
   "source": [
    "b2. volume()"
   ]
  },
  {
   "cell_type": "code",
   "execution_count": null,
   "id": "bfef23d1-9a05-43d4-bc38-012f71c3dd87",
   "metadata": {},
   "outputs": [],
   "source": []
  }
 ],
 "metadata": {
  "kernelspec": {
   "display_name": "Python 3 (ipykernel)",
   "language": "python",
   "name": "python3"
  },
  "language_info": {
   "codemirror_mode": {
    "name": "ipython",
    "version": 3
   },
   "file_extension": ".py",
   "mimetype": "text/x-python",
   "name": "python",
   "nbconvert_exporter": "python",
   "pygments_lexer": "ipython3",
   "version": "3.12.7"
  }
 },
 "nbformat": 4,
 "nbformat_minor": 5
}
